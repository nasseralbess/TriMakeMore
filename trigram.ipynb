{
 "cells": [
  {
   "cell_type": "code",
   "execution_count": 1,
   "metadata": {},
   "outputs": [],
   "source": [
    "import torch"
   ]
  },
  {
   "cell_type": "code",
   "execution_count": 38,
   "metadata": {},
   "outputs": [],
   "source": [
    "names = [name.strip() for name in open('names.txt','r').readlines()]\n",
    "names = ['!'+name+'!' for name in names]"
   ]
  },
  {
   "cell_type": "code",
   "execution_count": 39,
   "metadata": {},
   "outputs": [],
   "source": [
    "# trigrams = {char: [] for char in list(set((letter for name in names for letter in name)))}\n",
    "trigrams={}\n",
    "for name in names:\n",
    "    for i in range(len(name)-2):\n",
    "        trigrams[name[i]+name[i+1]]=[]"
   ]
  },
  {
   "cell_type": "code",
   "execution_count": 40,
   "metadata": {},
   "outputs": [],
   "source": [
    "for name in names:\n",
    "    for i in range(len(name)-2):\n",
    "        # if name[i]+name[i+1]=='jp':\n",
    "        #     print(name[i+2])\n",
    "        trigrams[name[i:i+2]].append(name[i+2])\n"
   ]
  },
  {
   "cell_type": "code",
   "execution_count": 50,
   "metadata": {},
   "outputs": [],
   "source": [
    "import numpy as np\n",
    "unique_chars = sorted(list(set((letter for name in names for letter in name))))\n",
    "prob = np.zeros((len(unique_chars)**2,len(unique_chars)),dtype=np.float16)\n",
    "conversion_1 = {char: i for i, char in enumerate(unique_chars)}\n",
    "convBack_1 = {i: char for i, char in enumerate(unique_chars)}\n",
    "combs = [i+j for i in unique_chars for j in unique_chars[1:]]\n",
    "conversion_2 = {comb: i for i, comb in enumerate(combs)}\n",
    "convBack_2 = {i: comb for i, comb in enumerate(combs)}\n",
    "for key, values in trigrams.items():\n",
    "    for value in values:\n",
    "        prob[conversion_2[key],conversion_1[value]]+=1\n"
   ]
  },
  {
   "cell_type": "code",
   "execution_count": 51,
   "metadata": {},
   "outputs": [
    {
     "name": "stderr",
     "output_type": "stream",
     "text": [
      "C:\\Users\\Administrator\\AppData\\Local\\Temp\\ipykernel_18968\\3883716547.py:1: RuntimeWarning: invalid value encountered in divide\n",
      "  prob /= np.sum(prob,axis=1)[:,None]\n"
     ]
    }
   ],
   "source": [
    "prob /= np.sum(prob,axis=1)[:,None]"
   ]
  },
  {
   "cell_type": "code",
   "execution_count": 52,
   "metadata": {},
   "outputs": [],
   "source": [
    "def generate_name():\n",
    "    name = '!'+ np.random.choice(unique_chars)\n",
    "    while name[-1] != '!':\n",
    "        name += convBack_1[np.random.choice(len(unique_chars),p=prob[conversion_2[name[-2:]]])]\n",
    "    return name"
   ]
  },
  {
   "cell_type": "code",
   "execution_count": 69,
   "metadata": {},
   "outputs": [
    {
     "data": {
      "text/plain": [
       "'sabea'"
      ]
     },
     "execution_count": 69,
     "metadata": {},
     "output_type": "execute_result"
    }
   ],
   "source": [
    "generate_name()[1:-1]"
   ]
  },
  {
   "cell_type": "code",
   "execution_count": 71,
   "metadata": {},
   "outputs": [],
   "source": [
    "X,y = [],[] \n",
    "for key in trigrams.keys():\n",
    "    for value in trigrams[key]:\n",
    "        feature = np.zeros((len(combs)))\n",
    "        feature[conversion_2[key]]=1\n",
    "        X.append(feature)\n",
    "        y.append(conversion_1[value])\n"
   ]
  },
  {
   "cell_type": "code",
   "execution_count": 72,
   "metadata": {},
   "outputs": [],
   "source": [
    "X,y = np.array(X),np.array(y)\n",
    "idx = np.random.permutation(len(X))\n",
    "X,y = X[idx],y[idx]\n",
    "X,y = torch.tensor(X, dtype=torch.float32),torch.tensor(y, dtype=torch.int32)"
   ]
  },
  {
   "cell_type": "code",
   "execution_count": 75,
   "metadata": {},
   "outputs": [],
   "source": [
    "#for reproducibility\n",
    "gen = torch.Generator().manual_seed(69)\n",
    "W = torch.randn((len(combs),len(unique_chars)), generator=gen, requires_grad=True)\n"
   ]
  },
  {
   "cell_type": "code",
   "execution_count": 76,
   "metadata": {},
   "outputs": [
    {
     "name": "stdout",
     "output_type": "stream",
     "text": [
      "tensor(3.7307, grad_fn=<NegBackward0>)\n",
      "tensor(2.5552, grad_fn=<NegBackward0>)\n",
      "tensor(2.3888, grad_fn=<NegBackward0>)\n",
      "tensor(2.3151, grad_fn=<NegBackward0>)\n",
      "tensor(2.2732, grad_fn=<NegBackward0>)\n",
      "tensor(2.2462, grad_fn=<NegBackward0>)\n",
      "tensor(2.2274, grad_fn=<NegBackward0>)\n",
      "tensor(2.2136, grad_fn=<NegBackward0>)\n",
      "tensor(2.2030, grad_fn=<NegBackward0>)\n",
      "tensor(2.1948, grad_fn=<NegBackward0>)\n"
     ]
    }
   ],
   "source": [
    "rate = 30\n",
    "for i in range(1000):\n",
    "    logits = X @ W\n",
    "    probs = torch.nn.functional.softmax(logits,dim=1)\n",
    "    loss = -torch.mean(probs[torch.arange(len(y)),y].log())\n",
    "    loss.backward()\n",
    "    with torch.no_grad():\n",
    "        W -= rate * W.grad\n",
    "        W.grad.zero_()\n",
    "\n",
    "    if i % 100 == 0:\n",
    "        print(loss)\n",
    "        rate *= 0.9"
   ]
  },
  {
   "cell_type": "code",
   "execution_count": 95,
   "metadata": {},
   "outputs": [],
   "source": [
    "def generate_name_nn():\n",
    "    name = '!'+ np.random.choice(unique_chars)\n",
    "    while name[-1] != '!':\n",
    "        feature = np.zeros((len(combs)))\n",
    "        feature[conversion_2[name[-2:]]]=1\n",
    "        feature = torch.tensor(feature, dtype=torch.float32)\n",
    "        logits = feature @ W\n",
    "        probs = torch.nn.functional.softmax(logits, dim=0)\n",
    "        ToAdd = torch.multinomial(probs,1).item()\n",
    "        name += convBack_1[ToAdd]\n",
    "    return name[1:-1]"
   ]
  },
  {
   "cell_type": "code",
   "execution_count": 98,
   "metadata": {},
   "outputs": [
    {
     "data": {
      "text/plain": [
       "'gabkjznle'"
      ]
     },
     "execution_count": 98,
     "metadata": {},
     "output_type": "execute_result"
    }
   ],
   "source": [
    "generate_name_nn()"
   ]
  },
  {
   "cell_type": "code",
   "execution_count": null,
   "metadata": {},
   "outputs": [],
   "source": []
  }
 ],
 "metadata": {
  "kernelspec": {
   "display_name": "Python 3",
   "language": "python",
   "name": "python3"
  },
  "language_info": {
   "codemirror_mode": {
    "name": "ipython",
    "version": 3
   },
   "file_extension": ".py",
   "mimetype": "text/x-python",
   "name": "python",
   "nbconvert_exporter": "python",
   "pygments_lexer": "ipython3",
   "version": "3.11.0"
  }
 },
 "nbformat": 4,
 "nbformat_minor": 2
}
